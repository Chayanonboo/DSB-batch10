{
  "nbformat": 4,
  "nbformat_minor": 0,
  "metadata": {
    "colab": {
      "provenance": [],
      "authorship_tag": "ABX9TyPPtAL/8j408rsVWPKrdSdc",
      "include_colab_link": true
    },
    "kernelspec": {
      "name": "ir",
      "display_name": "R"
    },
    "language_info": {
      "name": "R"
    }
  },
  "cells": [
    {
      "cell_type": "markdown",
      "metadata": {
        "id": "view-in-github",
        "colab_type": "text"
      },
      "source": [
        "<a href=\"https://colab.research.google.com/github/Chayanonboo/DSB-batch10/blob/main/R_Rock_Paper_Scissors.ipynb\" target=\"_parent\"><img src=\"https://colab.research.google.com/assets/colab-badge.svg\" alt=\"Open In Colab\"/></a>"
      ]
    },
    {
      "cell_type": "markdown",
      "source": [
        "## Project   : Rock-Paper-Scissors\n",
        "## Author    : Chayanon Boonthanom\n",
        "## Language  : R\n",
        "## Date      : 10 May 2025"
      ],
      "metadata": {
        "id": "b4yEQZ-zZwoQ"
      }
    },
    {
      "cell_type": "markdown",
      "source": [
        "**How to start game**\n",
        "## 1. Play for 10 rounds\n",
        "## 2. Sum scores and announce a winner at the end\n",
        "\n",
        "## ขั้นตอนจะมีให้ Choice ในการแข่งกับ Bot ทั้งหมด 3 Choice ครับ ดังนี้ครับ\n",
        "\n",
        "(rock, paper, or scissors) โดยที่ต้องเลือกคำเหล่านี้จนกว่าจะเล่นกันครบ 10 Turn จึงจะรู้ผลลัพธ์ว่าใครแพ้ใครชนะครับ\n",
        "\n"
      ],
      "metadata": {
        "id": "4XoLNNaOZkaz"
      }
    },
    {
      "cell_type": "code",
      "source": [
        "# Function to determine the winner of a round\n",
        "PaoyingChub <- function() {\n",
        "  options <- c(\"rock\", \"paper\", \"scissors\")\n",
        "\n",
        "  # Get user's choice\n",
        "  while (TRUE) {\n",
        "    user_choice <- readline(prompt = \"Choose your weapon (rock, paper, scissors): \")\n",
        "    user_choice <- tolower(user_choice) # Convert to lowercase for easier comparison\n",
        "    if (user_choice %in% options) {\n",
        "      break\n",
        "    } else {\n",
        "      print(\"Invalid choice. Please enter 'rock', 'paper', or 'scissors'.\")\n",
        "    }\n",
        "  }\n",
        "\n",
        "  # Get computer's choice\n",
        "  r_choice <- sample(options, 1)\n",
        "  print(paste(\"You chose:\", user_choice))\n",
        "  print(paste(\"Computer chose:\", r_choice))\n",
        "\n",
        "  # Determine the winner\n",
        "  if (user_choice == r_choice) {\n",
        "    print(\"It's a tie!\")\n",
        "    return(\"tie\")\n",
        "  } else if (\n",
        "    (user_choice == \"rock\" && r_choice == \"scissors\") ||\n",
        "    (user_choice == \"scissors\" && r_choice == \"paper\") ||\n",
        "    (user_choice == \"paper\" && r_choice == \"rock\")\n",
        "  ) {\n",
        "    print(\"You win this round!\")\n",
        "    return(\"user_wins\")\n",
        "  } else {\n",
        "    print(\"Computer wins this round!\")\n",
        "    return(\"r_wins\")\n",
        "  }\n",
        "}\n",
        "\n",
        "# Game setup\n",
        "user_score <- 0\n",
        "r_score <- 0\n",
        "round_number <- 1\n",
        "target_score <- 10\n",
        "\n",
        "\n",
        "print(paste(\"Let's play 'Rock Paper Scissors'! Whoever reaches\", target_score, \"points first wins.\"))\n",
        "\n",
        "# Game loop\n",
        "while (user_score < target_score && r_score < target_score) {\n",
        "  print(paste(\"--- Round:\", round_number, \"---\"))\n",
        "  print(\"Let's Play this round!\")\n",
        "\n",
        "  # Call PaoyingChub function to play a round\n",
        "  round_result <- PaoyingChub()\n",
        "\n",
        "  # Update scores based on the round result\n",
        "  if (round_result == \"user_wins\") {\n",
        "    user_score <- user_score + 1\n",
        "  } else if (round_result == \"r_wins\") {\n",
        "    r_score <- r_score + 1\n",
        "  }\n",
        "\n",
        "  # Print current scores\n",
        "  print(paste(\"Current Score: You -\", user_score, \", Computer -\", r_score))\n",
        "\n",
        "  round_number <- round_number + 1\n",
        "  print(\"--------------------\")\n",
        "\n",
        "  if (user_score == target_score || r_score == target_score) {\n",
        "    break\n",
        "  }\n",
        "}\n",
        "\n",
        "# Announce the winner\n",
        "print(\"======== GAME OVER ========\")\n",
        "if (user_score == target_score) {\n",
        "  print(paste(\"Congratulations! You reached\", target_score, \"points first. You win the game!\"))\n",
        "} else if (r_score == target_score) {\n",
        "  print(paste(\"Computer reached\", target_score, \"points first. Computer wins the game!\"))\n",
        "} else {\n",
        "  rock\n",
        "\n",
        "  print(\"The game ended unexpectedly.\")\n",
        "}"
      ],
      "metadata": {
        "colab": {
          "base_uri": "https://localhost:8080/"
        },
        "id": "ZNAKe5sYoakZ",
        "outputId": "d648c7a6-e3b2-4bfa-d1c6-6f646b262f97"
      },
      "execution_count": null,
      "outputs": [
        {
          "output_type": "stream",
          "name": "stdout",
          "text": [
            "[1] \"Let's play 'Rock Paper Scissors'! Whoever reaches 10 points first wins.\"\n"
          ]
        }
      ]
    }
  ]
}