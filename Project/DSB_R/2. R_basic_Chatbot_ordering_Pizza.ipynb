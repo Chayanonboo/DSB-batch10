{
  "nbformat": 4,
  "nbformat_minor": 0,
  "metadata": {
    "colab": {
      "provenance": [],
      "authorship_tag": "ABX9TyMSJPF7jYEhB+32VKKKz5Zd",
      "include_colab_link": true
    },
    "kernelspec": {
      "name": "ir",
      "display_name": "R"
    },
    "language_info": {
      "name": "R"
    }
  },
  "cells": [
    {
      "cell_type": "markdown",
      "metadata": {
        "id": "view-in-github",
        "colab_type": "text"
      },
      "source": [
        "<a href=\"https://colab.research.google.com/github/Chayanonboo/DSB-batch10/blob/main/R_basic_Chatbot_ordering_Pizza.ipynb\" target=\"_parent\"><img src=\"https://colab.research.google.com/assets/colab-badge.svg\" alt=\"Open In Colab\"/></a>"
      ]
    },
    {
      "cell_type": "markdown",
      "source": [
        "## chatbot order Pizza\n",
        "## ขั้นตอนในการใช้โปรแกรมนี้\n",
        "## 1. สามารถเริ่มการใช้ Program Chatbot ordering Pizza ได้ด้วยการกดฟังก์ชัน pizza()\n",
        "## 2. จะมีประโยคขึ้นมาดังนี้\n",
        "pizza()\n",
        "\n",
        "[1] \"Hello\"   \n",
        "\n",
        "[2] \"My name is Non,welcome to pizza restaurant!\"\n",
        "\n",
        "How can I help you?\n",
        "\n",
        "ให้ตอบ yes เพื่อไปขั้นตอนถัดไป"
      ],
      "metadata": {
        "id": "EQBu2d2mLcNR"
      }
    },
    {
      "cell_type": "code",
      "source": [
        "install.packages(\"glue\")\n",
        "\n",
        "library(glue)"
      ],
      "metadata": {
        "colab": {
          "base_uri": "https://localhost:8080/"
        },
        "id": "AJD14XXgU5Kg",
        "outputId": "285a4c43-6951-4b5c-8f5f-b23219ffce29"
      },
      "execution_count": 17,
      "outputs": [
        {
          "output_type": "stream",
          "name": "stderr",
          "text": [
            "Installing package into ‘/usr/local/lib/R/site-library’\n",
            "(as ‘lib’ is unspecified)\n",
            "\n"
          ]
        }
      ]
    },
    {
      "cell_type": "markdown",
      "source": [
        "## 3 ให้เลือก crust Pizza\n",
        "(Thin, Pan, Sausage, Extreme-cheese) 4 crust ดังนี้\n"
      ],
      "metadata": {
        "id": "29KGYS2bLm1v"
      }
    },
    {
      "cell_type": "code",
      "source": [
        "# create crust\n",
        "list_crust <- data.frame(list(\n",
        "  crust_id = 1:4,\n",
        "  crust_name = c(\"Thin\",\n",
        "                 \"Pan\",\n",
        "                 \"Sausage\",\n",
        "                 \"Extreme-cheese\"),\n",
        "  price = c(20,25,30,35)\n",
        "))"
      ],
      "metadata": {
        "id": "t2eb7mRJUw_t"
      },
      "execution_count": 18,
      "outputs": []
    },
    {
      "cell_type": "markdown",
      "source": [
        "## 4 ให้เลือกหน้า Topping\n",
        "\n",
        "(Hawaiian, Cocktail Shrimp, Seafood Deluxe, Chicken Spicy, Tom Yum Kung) 5 Topping ดังนี้\n",
        "\n"
      ],
      "metadata": {
        "id": "5uyaDL3OLxEr"
      }
    },
    {
      "cell_type": "code",
      "source": [
        "## create topping\n",
        "list_topping <- data.frame(list(\n",
        "  topping_id = 1:5,\n",
        "  topping_name = c(\n",
        "    \"Hawaiian\",\n",
        "    \"Cocktail Shrimp\",\n",
        "    \"Seafood Deluxe\",\n",
        "    \"Chicken Spicy\",\n",
        "    \"Tom Yum Kung\"\n",
        "  ),\n",
        "  price = c(250,260,270,280,290)\n",
        "))"
      ],
      "metadata": {
        "id": "s8ozwqSuUzTa"
      },
      "execution_count": 19,
      "outputs": []
    },
    {
      "cell_type": "markdown",
      "source": [
        "## 5 มีเจอ Anything else ..... ให้ตอบ yes"
      ],
      "metadata": {
        "id": "qy-FtB2WUgfy"
      }
    },
    {
      "cell_type": "markdown",
      "source": [
        "## 6 ให้เลือกอาหารอื่นๆ\n",
        "\n",
        "(Drinking Water,Chicken Nuggets,BBQ Chickern Wings) 3 Other food ดังนี้"
      ],
      "metadata": {
        "id": "chIcgPbNQCo3"
      }
    },
    {
      "cell_type": "code",
      "source": [
        "## create other\n",
        "list_other <- data.frame(list(\n",
        "  other_id = 1:3,\n",
        "  other_name = c(\n",
        "    \"Drinking Water\",\n",
        "    \"Chicken Nuggets\",\n",
        "    \"BBQ Chickern Wings\"\n",
        "  ),\n",
        "  price = c(42,40,78)\n",
        "))"
      ],
      "metadata": {
        "id": "SCu6MEmDU1mq"
      },
      "execution_count": 20,
      "outputs": []
    },
    {
      "cell_type": "code",
      "source": [
        "## chatbot order Pizza\n",
        "\n",
        "wel <- \"yes\"\n",
        "\n",
        "## create the welcome bot\n",
        "pizza <- function() {\n",
        "  print(\"Hello\") # แก้ไขการแสดงผลต้อนรับ\n",
        "  print(\"My name is Non, welcome to pizza restaurant!\")\n",
        "\n",
        "  welcome <- readline(\"How can I help you?(Type 'yes' to start ordering):\")\n",
        "\n",
        "## home\n",
        "  if(tolower(welcome == wel)){\n",
        "    price_c <- 0\n",
        "    price_t <- 0\n",
        "    price_o <- 0\n",
        "\n",
        "    selected_crust_name <- \"None\"\n",
        "    selected_topping_name <- \"None\"\n",
        "    selected_other_name <- \"None\"\n",
        "\n",
        "## crust\n",
        "while (TRUE) {\n",
        "    print(\"--------------------\")\n",
        "    print(\"Select your crust:\")\n",
        "    print(list_crust)\n",
        "    select_crust_input <- readline(\"Pls select crust (enter name):\")\n",
        "    crust_match_index <- which(tolower(list_crust$crust_name) == tolower(select_crust_input))\n",
        "    if (length(crust_match_index) > 0) {\n",
        "        price_c <- list_crust[crust_match_index[1], \"price\"]\n",
        "        selected_crust_name <- list_crust[crust_match_index[1], \"crust_name\"]\n",
        "        print(glue(\"You selected crust: {selected_crust_name}, Price: {price_c} $\"))\n",
        "        break # ออกจาก loop เมื่อเลือกถูกต้อง\n",
        "    } else {\n",
        "        print(glue(\"Invalid crust selection: '{select_crust_input}'. Please choose from the list and check spelling.\"))\n",
        "      }\n",
        "    }\n",
        "\n",
        "## topping\n",
        "    while (TRUE) {\n",
        "      print(\"--------------------\")\n",
        "      print(\"Select your topping:\")\n",
        "      print(list_topping)\n",
        "      select_menu_input <- readline(\"Select your topping (enter name): \")\n",
        "    topping_match_index <- which(tolower(list_topping$topping_name) == tolower(select_menu_input))\n",
        "\n",
        "    if (length(topping_match_index) > 0) {\n",
        "        price_t <- list_topping[topping_match_index[1], \"price\"]\n",
        "        selected_topping_name <- list_topping[topping_match_index[1], \"topping_name\"]\n",
        "        print(glue(\"You selected topping: {selected_topping_name}, Price: {price_t} $\"))\n",
        "        break # ออกจาก loop เมื่อเลือกถูกต้อง\n",
        "      } else {\n",
        "        print(glue(\"Invalid topping selection: '{select_menu_input}'. Please choose from the list and check spelling.\"))\n",
        "      }\n",
        "    }\n",
        "\n",
        "    print(\"--------------------\")\n",
        "    other_input <- readline(\"Anything else ..... (yes/no): \")\n",
        "\n",
        "    if (tolower(other_input) == wel) {\n",
        "\n",
        "      while (TRUE) {\n",
        "        print(\"--------------------\")\n",
        "        print(\"Select other items:\")\n",
        "        print(list_other)\n",
        "        select_other_input <- readline(\"Pls select Other Menu (enter name): \")\n",
        "\n",
        "\n",
        "        other_match_index <- which(tolower(list_other$other_name) == tolower(select_other_input))\n",
        "\n",
        "        if (length(other_match_index) > 0) {\n",
        "          price_o <- list_other[other_match_index[1], \"price\"]\n",
        "          selected_other_name <- list_other[other_match_index[1], \"other_name\"]\n",
        "          print(glue(\"You selected other: {selected_other_name}, Price: {price_o} $\"))\n",
        "          break\n",
        "        } else {\n",
        "          print(glue(\"Invalid other item selection: '{select_other_input}'. Please choose from the list and check spelling.\"))\n",
        "        }\n",
        "      }\n",
        "    } else {\n",
        "      print(\"No other items selected.\")\n",
        "      selected_other_name <- \"None\"\n",
        "      price_o <- 0\n",
        "    }\n",
        "\n",
        "    total_price <- price_c + price_t + price_o\n",
        "\n",
        "    print(glue(\"Selected Crust: {selected_crust_name} ({price_c} $)\"))\n",
        "    print(glue(\"Selected Topping: {selected_topping_name} ({price_t} $)\"))\n",
        "    print(glue(\"Selected Other: {selected_other_name} ({price_o} $)\"))\n",
        "    print(glue(\"The total price is {total_price} $\"))\n",
        "    print(\"Thank you for your order!\")\n",
        "\n",
        "  } else {\n",
        "    print(\"Okay, let me know if you change your mind. Thank you for visiting!\")\n",
        "  }\n",
        "}\n"
      ],
      "metadata": {
        "id": "LP-LjqfjLQpJ"
      },
      "execution_count": 27,
      "outputs": []
    },
    {
      "cell_type": "markdown",
      "source": [
        "7 พิมพ์ Pizza เพื่อเลือกใช้ Function"
      ],
      "metadata": {
        "id": "v17NdqMmU_Me"
      }
    },
    {
      "cell_type": "code",
      "source": [
        "pizza()"
      ],
      "metadata": {
        "colab": {
          "base_uri": "https://localhost:8080/"
        },
        "id": "VaSwtEpLTxdl",
        "outputId": "487a18a5-2430-4222-f06f-e10b7aa1a899"
      },
      "execution_count": 28,
      "outputs": [
        {
          "output_type": "stream",
          "name": "stdout",
          "text": [
            "How can I help you?(Type 'yes' to start ordering):yes\n",
            "Pls select crust (enter name):Thin\n",
            "Select your topping (enter name): Hawaiian\n",
            "Anything else ..... (yes/no): yes\n",
            "Pls select Other Menu (enter name): Drinking Water\n",
            "[1] \"Hello\"\n",
            "[1] \"My name is Non, welcome to pizza restaurant!\"\n",
            "[1] \"--------------------\"\n",
            "[1] \"Select your crust:\"\n",
            "  crust_id     crust_name price\n",
            "1        1           Thin    20\n",
            "2        2            Pan    25\n",
            "3        3        Sausage    30\n",
            "4        4 Extreme-cheese    35\n",
            "You selected crust: Thin, Price: 20 $\n",
            "[1] \"--------------------\"\n",
            "[1] \"Select your topping:\"\n",
            "  topping_id    topping_name price\n",
            "1          1        Hawaiian   250\n",
            "2          2 Cocktail Shrimp   260\n",
            "3          3  Seafood Deluxe   270\n",
            "4          4   Chicken Spicy   280\n",
            "5          5    Tom Yum Kung   290\n",
            "You selected topping: Hawaiian, Price: 250 $\n",
            "[1] \"--------------------\"\n",
            "[1] \"--------------------\"\n",
            "[1] \"Select other items:\"\n",
            "  other_id         other_name price\n",
            "1        1     Drinking Water    42\n",
            "2        2    Chicken Nuggets    40\n",
            "3        3 BBQ Chickern Wings    78\n",
            "You selected other: Drinking Water, Price: 42 $\n",
            "Selected Crust: Thin (20 $)\n",
            "Selected Topping: Hawaiian (250 $)\n",
            "Selected Other: Drinking Water (42 $)\n",
            "The total price is 312 $\n",
            "[1] \"Thank you for your order!\"\n"
          ]
        }
      ]
    }
  ]
}
