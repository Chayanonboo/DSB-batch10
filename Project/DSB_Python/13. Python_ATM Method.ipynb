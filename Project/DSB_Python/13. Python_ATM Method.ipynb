{
  "nbformat": 4,
  "nbformat_minor": 0,
  "metadata": {
    "colab": {
      "provenance": [],
      "authorship_tag": "ABX9TyPo1SeOvN1GxVcxvLTp+upb",
      "include_colab_link": true
    },
    "kernelspec": {
      "name": "python3",
      "display_name": "Python 3"
    },
    "language_info": {
      "name": "python"
    }
  },
  "cells": [
    {
      "cell_type": "markdown",
      "metadata": {
        "id": "view-in-github",
        "colab_type": "text"
      },
      "source": [
        "<a href=\"https://colab.research.google.com/github/Chayanonboo/DSB-batch10/blob/main/DSB10_HW2_Chayanon_class_ATM.ipynb\" target=\"_parent\"><img src=\"https://colab.research.google.com/assets/colab-badge.svg\" alt=\"Open In Colab\"/></a>"
      ]
    },
    {
      "cell_type": "markdown",
      "source": [
        "## **Project**  : ATM Method\n",
        "\n",
        "## **Author**   : Chayanon Boonthanom\n",
        "\n",
        "## **Language** : Python\n",
        "\n",
        "## **Date**     : 11 May 2025"
      ],
      "metadata": {
        "id": "ryjaCOiX9w-u"
      }
    },
    {
      "cell_type": "code",
      "execution_count": 2,
      "metadata": {
        "id": "Q5MDNmdjMM4_"
      },
      "outputs": [],
      "source": [
        "## OOP Create ATM\n",
        "## 4-5 Method\n",
        "class ATM:\n",
        "    def __init__(self, name, bank, balance, pin):\n",
        "        self.name = name\n",
        "        self.bank = bank\n",
        "        self.balance = balance\n",
        "        self.pin = pin\n",
        "\n",
        "    def check_pin(self):\n",
        "        while True:  # choose correct pin\n",
        "            verify_pin = int(input(\"Please input your pin: \"))\n",
        "            if verify_pin == self.pin:\n",
        "                print(\"Your password is correct. You are now accessing your bank account.\")\n",
        "                break\n",
        "            else:\n",
        "                print(\"Your password is wrong. Please try again.\")\n",
        "\n",
        "    def check_balance(self):\n",
        "        return f\"Current Balance: {self.balance}\"\n",
        "\n",
        "    def deposit_money(self):\n",
        "        try:\n",
        "            dep_amount = int(input(\"This is deposit menu. Please input your deposit amount: \"))\n",
        "            if dep_amount > 0:\n",
        "                self.balance += dep_amount\n",
        "                print(f\"Deposit successfully. Your current balance is {self.balance}\")\n",
        "            else:\n",
        "                print(\"Invalid deposit amount. Please input a positive number.\")\n",
        "        except ValueError:\n",
        "            print(\"Invalid input. Please input a valid number.\")\n",
        "\n",
        "    def withdrawn_money(self):\n",
        "        try:\n",
        "            withdrawn_amount = int(input(\"This is withdrawn menu. Please input your withdrawn amount: \"))\n",
        "            if withdrawn_amount > 0 and withdrawn_amount <= self.balance:\n",
        "                self.balance -= withdrawn_amount\n",
        "                print(f\"Withdrawn successfully. Your current balance is {self.balance}\")\n",
        "            elif withdrawn_amount > self.balance:\n",
        "                print(\"Insufficient balance.\")\n",
        "            else:\n",
        "                print(\"Invalid withdrawn amount. Please input a positive number.\")\n",
        "        except ValueError:\n",
        "            print(\"Invalid input. Please input a valid number.\")\n",
        "\n",
        "    def __str__(self):\n",
        "        return f\"name: {self.name}, bank: {self.bank}, balance: {self.balance}, pin: ****\"\n",
        "\n",
        "\n"
      ]
    },
    {
      "cell_type": "code",
      "source": [
        "account = ATM(\"non\",\"k-bank\",1000,1234)"
      ],
      "metadata": {
        "id": "JelBWkgVPT98"
      },
      "execution_count": 3,
      "outputs": []
    },
    {
      "cell_type": "code",
      "source": [
        "account.check_pin()"
      ],
      "metadata": {
        "colab": {
          "base_uri": "https://localhost:8080/"
        },
        "id": "mgQj1ZZQPeCJ",
        "outputId": "ca418596-fded-451b-c521-f961a886d97b"
      },
      "execution_count": 4,
      "outputs": [
        {
          "output_type": "stream",
          "name": "stdout",
          "text": [
            "Please input your pin: 5555\n",
            "Your password is wrong. Please try again.\n",
            "Please input your pin: 1234\n",
            "Your password is correct. You are now accessing your bank account.\n"
          ]
        }
      ]
    },
    {
      "cell_type": "code",
      "source": [
        "account.check_balance()"
      ],
      "metadata": {
        "colab": {
          "base_uri": "https://localhost:8080/",
          "height": 36
        },
        "id": "DOB0wTWFPbH0",
        "outputId": "5d5f90b7-2ecb-4d44-c1bc-442533221ddc"
      },
      "execution_count": 5,
      "outputs": [
        {
          "output_type": "execute_result",
          "data": {
            "text/plain": [
              "'Current Balance: 1000'"
            ],
            "application/vnd.google.colaboratory.intrinsic+json": {
              "type": "string"
            }
          },
          "metadata": {},
          "execution_count": 5
        }
      ]
    },
    {
      "cell_type": "code",
      "source": [
        "account.deposit_money()"
      ],
      "metadata": {
        "id": "xtUBVQt8T9vR",
        "colab": {
          "base_uri": "https://localhost:8080/"
        },
        "outputId": "af476922-1d14-48a7-d965-8c05db244f47"
      },
      "execution_count": 6,
      "outputs": [
        {
          "output_type": "stream",
          "name": "stdout",
          "text": [
            "This is deposit menu. Please input your deposit amount: 200\n",
            "Deposit successfully. Your current balance is 1200\n"
          ]
        }
      ]
    },
    {
      "cell_type": "code",
      "source": [
        "account.withdrawn_money()"
      ],
      "metadata": {
        "id": "0-gA09XfVg2Z",
        "colab": {
          "base_uri": "https://localhost:8080/"
        },
        "outputId": "57d3da23-548c-45a7-f612-4e2ef81ea7b1"
      },
      "execution_count": 7,
      "outputs": [
        {
          "output_type": "stream",
          "name": "stdout",
          "text": [
            "This is withdrawn menu. Please input your withdrawn amount: 300\n",
            "Withdrawn successfully. Your current balance is 900\n"
          ]
        }
      ]
    },
    {
      "cell_type": "code",
      "source": [
        "print(account)"
      ],
      "metadata": {
        "colab": {
          "base_uri": "https://localhost:8080/"
        },
        "id": "76qodyGbTWv7",
        "outputId": "81598fe7-fb71-4980-9b15-cb378e850fdb"
      },
      "execution_count": 8,
      "outputs": [
        {
          "output_type": "stream",
          "name": "stdout",
          "text": [
            "name: non, bank: k-bank, balance: 900, pin: ****\n"
          ]
        }
      ]
    }
  ]
}
