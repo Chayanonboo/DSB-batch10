{
  "nbformat": 4,
  "nbformat_minor": 0,
  "metadata": {
    "colab": {
      "provenance": [],
      "authorship_tag": "ABX9TyOSLS+n5HhFtcaPzv/yjhn8",
      "include_colab_link": true
    },
    "kernelspec": {
      "name": "ir",
      "display_name": "R"
    },
    "language_info": {
      "name": "R"
    }
  },
  "cells": [
    {
      "cell_type": "markdown",
      "metadata": {
        "id": "view-in-github",
        "colab_type": "text"
      },
      "source": [
        "<a href=\"https://colab.research.google.com/github/Chayanonboo/dsb-batch10/blob/main/R_Diamonds%20with%20dplyr%20in%20R.ipynb\" target=\"_parent\"><img src=\"https://colab.research.google.com/assets/colab-badge.svg\" alt=\"Open In Colab\"/></a>"
      ]
    },
    {
      "cell_type": "markdown",
      "source": [
        "**R_Diamonds_with_dplyr**\n",
        "\n",
        "**Author**: Chayanon Boonthanom\n",
        "\n",
        "**Language**: R\n",
        "\n",
        "**Date**: 09 May 2025"
      ],
      "metadata": {
        "id": "L3v5Z-iPSiA6"
      }
    },
    {
      "cell_type": "markdown",
      "source": [
        "**Install library**"
      ],
      "metadata": {
        "id": "4ZBldVGApLnE"
      }
    },
    {
      "cell_type": "code",
      "execution_count": 3,
      "metadata": {
        "colab": {
          "base_uri": "https://localhost:8080/"
        },
        "id": "2pddh_GEnOuv",
        "outputId": "3b998471-2c23-42a8-8943-8f1081316705"
      },
      "outputs": [
        {
          "output_type": "stream",
          "name": "stderr",
          "text": [
            "── \u001b[1mAttaching core tidyverse packages\u001b[22m ──────────────────────── tidyverse 2.0.0 ──\n",
            "\u001b[32m✔\u001b[39m \u001b[34mdplyr    \u001b[39m 1.1.4     \u001b[32m✔\u001b[39m \u001b[34mreadr    \u001b[39m 2.1.5\n",
            "\u001b[32m✔\u001b[39m \u001b[34mforcats  \u001b[39m 1.0.0     \u001b[32m✔\u001b[39m \u001b[34mstringr  \u001b[39m 1.5.1\n",
            "\u001b[32m✔\u001b[39m \u001b[34mggplot2  \u001b[39m 3.5.2     \u001b[32m✔\u001b[39m \u001b[34mtibble   \u001b[39m 3.2.1\n",
            "\u001b[32m✔\u001b[39m \u001b[34mlubridate\u001b[39m 1.9.4     \u001b[32m✔\u001b[39m \u001b[34mtidyr    \u001b[39m 1.3.1\n",
            "\u001b[32m✔\u001b[39m \u001b[34mpurrr    \u001b[39m 1.0.4     \n",
            "── \u001b[1mConflicts\u001b[22m ────────────────────────────────────────── tidyverse_conflicts() ──\n",
            "\u001b[31m✖\u001b[39m \u001b[34mdplyr\u001b[39m::\u001b[32mfilter()\u001b[39m masks \u001b[34mstats\u001b[39m::filter()\n",
            "\u001b[31m✖\u001b[39m \u001b[34mdplyr\u001b[39m::\u001b[32mlag()\u001b[39m    masks \u001b[34mstats\u001b[39m::lag()\n",
            "\u001b[36mℹ\u001b[39m Use the conflicted package (\u001b[3m\u001b[34m<http://conflicted.r-lib.org/>\u001b[39m\u001b[23m) to force all conflicts to become errors\n"
          ]
        }
      ],
      "source": [
        "library(tidyverse)\n",
        "library(tinytex)\n",
        "\n"
      ]
    },
    {
      "cell_type": "markdown",
      "source": [
        "View Diamonds output"
      ],
      "metadata": {
        "id": "GmJkyIEzp8Ll"
      }
    },
    {
      "cell_type": "code",
      "source": [
        "View(diamonds)"
      ],
      "metadata": {
        "id": "6_Xhqq-UVrhb"
      },
      "execution_count": null,
      "outputs": []
    },
    {
      "cell_type": "markdown",
      "source": [
        "**Define variable for diamonds table**"
      ],
      "metadata": {
        "id": "PeGe_BoZpaUh"
      }
    },
    {
      "cell_type": "code",
      "source": [
        "diamond_df <- diamonds %>% sample_frac(0.15)"
      ],
      "metadata": {
        "id": "xZZQQVRTqNoq"
      },
      "execution_count": 5,
      "outputs": []
    },
    {
      "cell_type": "markdown",
      "source": [
        "head of diamond"
      ],
      "metadata": {
        "id": "YHPxGgM1qvdb"
      }
    },
    {
      "cell_type": "code",
      "source": [
        "head(diamond_df)"
      ],
      "metadata": {
        "colab": {
          "base_uri": "https://localhost:8080/",
          "height": 286
        },
        "id": "LdgZZgc6qCbb",
        "outputId": "cec32cbf-34e6-4818-a17b-926bd83612fa"
      },
      "execution_count": 6,
      "outputs": [
        {
          "output_type": "display_data",
          "data": {
            "text/html": [
              "<table class=\"dataframe\">\n",
              "<caption>A tibble: 6 × 10</caption>\n",
              "<thead>\n",
              "\t<tr><th scope=col>carat</th><th scope=col>cut</th><th scope=col>color</th><th scope=col>clarity</th><th scope=col>depth</th><th scope=col>table</th><th scope=col>price</th><th scope=col>x</th><th scope=col>y</th><th scope=col>z</th></tr>\n",
              "\t<tr><th scope=col>&lt;dbl&gt;</th><th scope=col>&lt;ord&gt;</th><th scope=col>&lt;ord&gt;</th><th scope=col>&lt;ord&gt;</th><th scope=col>&lt;dbl&gt;</th><th scope=col>&lt;dbl&gt;</th><th scope=col>&lt;int&gt;</th><th scope=col>&lt;dbl&gt;</th><th scope=col>&lt;dbl&gt;</th><th scope=col>&lt;dbl&gt;</th></tr>\n",
              "</thead>\n",
              "<tbody>\n",
              "\t<tr><td>0.70</td><td>Very Good</td><td>I</td><td>SI2</td><td>60.9</td><td>59</td><td> 1603</td><td>5.70</td><td>5.76</td><td>3.49</td></tr>\n",
              "\t<tr><td>1.20</td><td>Premium  </td><td>H</td><td>SI1</td><td>61.2</td><td>57</td><td> 6129</td><td>6.91</td><td>6.78</td><td>4.19</td></tr>\n",
              "\t<tr><td>0.51</td><td>Premium  </td><td>D</td><td>SI1</td><td>62.2</td><td>58</td><td> 1619</td><td>5.13</td><td>5.06</td><td>3.17</td></tr>\n",
              "\t<tr><td>1.81</td><td>Premium  </td><td>E</td><td>SI2</td><td>58.2</td><td>61</td><td>13561</td><td>8.09</td><td>8.02</td><td>4.69</td></tr>\n",
              "\t<tr><td>1.10</td><td>Premium  </td><td>I</td><td>SI1</td><td>60.4</td><td>61</td><td> 4312</td><td>6.73</td><td>6.69</td><td>4.05</td></tr>\n",
              "\t<tr><td>1.10</td><td>Very Good</td><td>G</td><td>IF </td><td>60.5</td><td>55</td><td> 8592</td><td>6.77</td><td>6.71</td><td>4.08</td></tr>\n",
              "</tbody>\n",
              "</table>\n"
            ],
            "text/markdown": "\nA tibble: 6 × 10\n\n| carat &lt;dbl&gt; | cut &lt;ord&gt; | color &lt;ord&gt; | clarity &lt;ord&gt; | depth &lt;dbl&gt; | table &lt;dbl&gt; | price &lt;int&gt; | x &lt;dbl&gt; | y &lt;dbl&gt; | z &lt;dbl&gt; |\n|---|---|---|---|---|---|---|---|---|---|\n| 0.70 | Very Good | I | SI2 | 60.9 | 59 |  1603 | 5.70 | 5.76 | 3.49 |\n| 1.20 | Premium   | H | SI1 | 61.2 | 57 |  6129 | 6.91 | 6.78 | 4.19 |\n| 0.51 | Premium   | D | SI1 | 62.2 | 58 |  1619 | 5.13 | 5.06 | 3.17 |\n| 1.81 | Premium   | E | SI2 | 58.2 | 61 | 13561 | 8.09 | 8.02 | 4.69 |\n| 1.10 | Premium   | I | SI1 | 60.4 | 61 |  4312 | 6.73 | 6.69 | 4.05 |\n| 1.10 | Very Good | G | IF  | 60.5 | 55 |  8592 | 6.77 | 6.71 | 4.08 |\n\n",
            "text/latex": "A tibble: 6 × 10\n\\begin{tabular}{llllllllll}\n carat & cut & color & clarity & depth & table & price & x & y & z\\\\\n <dbl> & <ord> & <ord> & <ord> & <dbl> & <dbl> & <int> & <dbl> & <dbl> & <dbl>\\\\\n\\hline\n\t 0.70 & Very Good & I & SI2 & 60.9 & 59 &  1603 & 5.70 & 5.76 & 3.49\\\\\n\t 1.20 & Premium   & H & SI1 & 61.2 & 57 &  6129 & 6.91 & 6.78 & 4.19\\\\\n\t 0.51 & Premium   & D & SI1 & 62.2 & 58 &  1619 & 5.13 & 5.06 & 3.17\\\\\n\t 1.81 & Premium   & E & SI2 & 58.2 & 61 & 13561 & 8.09 & 8.02 & 4.69\\\\\n\t 1.10 & Premium   & I & SI1 & 60.4 & 61 &  4312 & 6.73 & 6.69 & 4.05\\\\\n\t 1.10 & Very Good & G & IF  & 60.5 & 55 &  8592 & 6.77 & 6.71 & 4.08\\\\\n\\end{tabular}\n",
            "text/plain": [
              "  carat cut       color clarity depth table price x    y    z   \n",
              "1 0.70  Very Good I     SI2     60.9  59     1603 5.70 5.76 3.49\n",
              "2 1.20  Premium   H     SI1     61.2  57     6129 6.91 6.78 4.19\n",
              "3 0.51  Premium   D     SI1     62.2  58     1619 5.13 5.06 3.17\n",
              "4 1.81  Premium   E     SI2     58.2  61    13561 8.09 8.02 4.69\n",
              "5 1.10  Premium   I     SI1     60.4  61     4312 6.73 6.69 4.05\n",
              "6 1.10  Very Good G     IF      60.5  55     8592 6.77 6.71 4.08"
            ]
          },
          "metadata": {}
        }
      ]
    },
    {
      "cell_type": "markdown",
      "source": [
        "library(ggplot2)"
      ],
      "metadata": {
        "id": "WYHJ0k4sq_C2"
      }
    },
    {
      "cell_type": "code",
      "source": [
        "library(ggplot2)"
      ],
      "metadata": {
        "id": "RcL9_2m-rGgI"
      },
      "execution_count": null,
      "outputs": []
    },
    {
      "cell_type": "markdown",
      "source": [
        "ggplot2\n"
      ],
      "metadata": {
        "id": "9OcLPg9MrJ8A"
      }
    },
    {
      "cell_type": "markdown",
      "source": [
        "df1 function"
      ],
      "metadata": {
        "id": "Wa5NU7jrtV2W"
      }
    },
    {
      "cell_type": "code",
      "source": [
        "df1 <- diamond_df %>%\n",
        "  select(clarity,carat,cut) %>%\n",
        " filter(carat > 0.3,cut == \"Ideal\")"
      ],
      "metadata": {
        "id": "a7TE6UZHrMKW"
      },
      "execution_count": null,
      "outputs": []
    },
    {
      "cell_type": "code",
      "source": [
        "tail(df1)"
      ],
      "metadata": {
        "colab": {
          "base_uri": "https://localhost:8080/",
          "height": 286
        },
        "id": "1UNPXGDVsUVv",
        "outputId": "f99b6a23-ae05-45c8-8fd3-4d678b0716cf"
      },
      "execution_count": null,
      "outputs": [
        {
          "output_type": "display_data",
          "data": {
            "text/html": [
              "<table class=\"dataframe\">\n",
              "<caption>A tibble: 6 × 3</caption>\n",
              "<thead>\n",
              "\t<tr><th scope=col>clarity</th><th scope=col>carat</th><th scope=col>cut</th></tr>\n",
              "\t<tr><th scope=col>&lt;ord&gt;</th><th scope=col>&lt;dbl&gt;</th><th scope=col>&lt;ord&gt;</th></tr>\n",
              "</thead>\n",
              "<tbody>\n",
              "\t<tr><td>SI2</td><td>1.12</td><td>Ideal</td></tr>\n",
              "\t<tr><td>VS1</td><td>0.71</td><td>Ideal</td></tr>\n",
              "\t<tr><td>VS2</td><td>0.51</td><td>Ideal</td></tr>\n",
              "\t<tr><td>VS2</td><td>1.01</td><td>Ideal</td></tr>\n",
              "\t<tr><td>VS2</td><td>0.38</td><td>Ideal</td></tr>\n",
              "\t<tr><td>VS2</td><td>1.01</td><td>Ideal</td></tr>\n",
              "</tbody>\n",
              "</table>\n"
            ],
            "text/markdown": "\nA tibble: 6 × 3\n\n| clarity &lt;ord&gt; | carat &lt;dbl&gt; | cut &lt;ord&gt; |\n|---|---|---|\n| SI2 | 1.12 | Ideal |\n| VS1 | 0.71 | Ideal |\n| VS2 | 0.51 | Ideal |\n| VS2 | 1.01 | Ideal |\n| VS2 | 0.38 | Ideal |\n| VS2 | 1.01 | Ideal |\n\n",
            "text/latex": "A tibble: 6 × 3\n\\begin{tabular}{lll}\n clarity & carat & cut\\\\\n <ord> & <dbl> & <ord>\\\\\n\\hline\n\t SI2 & 1.12 & Ideal\\\\\n\t VS1 & 0.71 & Ideal\\\\\n\t VS2 & 0.51 & Ideal\\\\\n\t VS2 & 1.01 & Ideal\\\\\n\t VS2 & 0.38 & Ideal\\\\\n\t VS2 & 1.01 & Ideal\\\\\n\\end{tabular}\n",
            "text/plain": [
              "  clarity carat cut  \n",
              "1 SI2     1.12  Ideal\n",
              "2 VS1     0.71  Ideal\n",
              "3 VS2     0.51  Ideal\n",
              "4 VS2     1.01  Ideal\n",
              "5 VS2     0.38  Ideal\n",
              "6 VS2     1.01  Ideal"
            ]
          },
          "metadata": {}
        }
      ]
    },
    {
      "cell_type": "markdown",
      "source": [
        "df2 function"
      ],
      "metadata": {
        "id": "8BgEF2sxuL9K"
      }
    },
    {
      "cell_type": "code",
      "source": [
        "df2 <- diamond_df %>%\n",
        "  select(clarity,color,price) %>%\n",
        "  filter(color == \"E\",price > 900) %>%\n",
        "  arrange( clarity , desc(price) )\n"
      ],
      "metadata": {
        "id": "Ty2mZp01uNx_"
      },
      "execution_count": 8,
      "outputs": []
    },
    {
      "cell_type": "code",
      "source": [
        "head(df2)"
      ],
      "metadata": {
        "colab": {
          "base_uri": "https://localhost:8080/",
          "height": 286
        },
        "id": "9d3nuBpsu2Cz",
        "outputId": "6d29cf73-ed0d-4e0c-d9e8-451b48884dd1"
      },
      "execution_count": 9,
      "outputs": [
        {
          "output_type": "display_data",
          "data": {
            "text/html": [
              "<table class=\"dataframe\">\n",
              "<caption>A tibble: 6 × 3</caption>\n",
              "<thead>\n",
              "\t<tr><th scope=col>clarity</th><th scope=col>color</th><th scope=col>price</th></tr>\n",
              "\t<tr><th scope=col>&lt;ord&gt;</th><th scope=col>&lt;ord&gt;</th><th scope=col>&lt;int&gt;</th></tr>\n",
              "</thead>\n",
              "<tbody>\n",
              "\t<tr><td>I1</td><td>E</td><td>11548</td></tr>\n",
              "\t<tr><td>I1</td><td>E</td><td> 5647</td></tr>\n",
              "\t<tr><td>I1</td><td>E</td><td> 5027</td></tr>\n",
              "\t<tr><td>I1</td><td>E</td><td> 3797</td></tr>\n",
              "\t<tr><td>I1</td><td>E</td><td> 3729</td></tr>\n",
              "\t<tr><td>I1</td><td>E</td><td> 3300</td></tr>\n",
              "</tbody>\n",
              "</table>\n"
            ],
            "text/markdown": "\nA tibble: 6 × 3\n\n| clarity &lt;ord&gt; | color &lt;ord&gt; | price &lt;int&gt; |\n|---|---|---|\n| I1 | E | 11548 |\n| I1 | E |  5647 |\n| I1 | E |  5027 |\n| I1 | E |  3797 |\n| I1 | E |  3729 |\n| I1 | E |  3300 |\n\n",
            "text/latex": "A tibble: 6 × 3\n\\begin{tabular}{lll}\n clarity & color & price\\\\\n <ord> & <ord> & <int>\\\\\n\\hline\n\t I1 & E & 11548\\\\\n\t I1 & E &  5647\\\\\n\t I1 & E &  5027\\\\\n\t I1 & E &  3797\\\\\n\t I1 & E &  3729\\\\\n\t I1 & E &  3300\\\\\n\\end{tabular}\n",
            "text/plain": [
              "  clarity color price\n",
              "1 I1      E     11548\n",
              "2 I1      E      5647\n",
              "3 I1      E      5027\n",
              "4 I1      E      3797\n",
              "5 I1      E      3729\n",
              "6 I1      E      3300"
            ]
          },
          "metadata": {}
        }
      ]
    },
    {
      "cell_type": "markdown",
      "source": [
        "df3 function"
      ],
      "metadata": {
        "id": "TNRFEns2vHp2"
      }
    },
    {
      "cell_type": "code",
      "source": [
        "df3 <- diamond_df %>%\n",
        "  filter(carat <= 0.9) %>%\n",
        "  sample_n(100) %>%\n",
        "  summarise(mean_carat = mean(carat),\n",
        "            sum_carat = sum(carat),\n",
        "            median_carat = median(carat),\n",
        "            sd_carat = sd(carat),\n",
        "            n = n())"
      ],
      "metadata": {
        "id": "LAFn7sn-vLP9"
      },
      "execution_count": 10,
      "outputs": []
    },
    {
      "cell_type": "code",
      "source": [
        "df3"
      ],
      "metadata": {
        "colab": {
          "base_uri": "https://localhost:8080/",
          "height": 129
        },
        "id": "FQGyVUEevw6H",
        "outputId": "33bd7122-03a6-4e20-c088-0b27dc50d81f"
      },
      "execution_count": 12,
      "outputs": [
        {
          "output_type": "display_data",
          "data": {
            "text/html": [
              "<table class=\"dataframe\">\n",
              "<caption>A tibble: 1 × 5</caption>\n",
              "<thead>\n",
              "\t<tr><th scope=col>mean_carat</th><th scope=col>sum_carat</th><th scope=col>median_carat</th><th scope=col>sd_carat</th><th scope=col>n</th></tr>\n",
              "\t<tr><th scope=col>&lt;dbl&gt;</th><th scope=col>&lt;dbl&gt;</th><th scope=col>&lt;dbl&gt;</th><th scope=col>&lt;dbl&gt;</th><th scope=col>&lt;int&gt;</th></tr>\n",
              "</thead>\n",
              "<tbody>\n",
              "\t<tr><td>0.4666</td><td>46.66</td><td>0.4</td><td>0.1707039</td><td>100</td></tr>\n",
              "</tbody>\n",
              "</table>\n"
            ],
            "text/markdown": "\nA tibble: 1 × 5\n\n| mean_carat &lt;dbl&gt; | sum_carat &lt;dbl&gt; | median_carat &lt;dbl&gt; | sd_carat &lt;dbl&gt; | n &lt;int&gt; |\n|---|---|---|---|---|\n| 0.4666 | 46.66 | 0.4 | 0.1707039 | 100 |\n\n",
            "text/latex": "A tibble: 1 × 5\n\\begin{tabular}{lllll}\n mean\\_carat & sum\\_carat & median\\_carat & sd\\_carat & n\\\\\n <dbl> & <dbl> & <dbl> & <dbl> & <int>\\\\\n\\hline\n\t 0.4666 & 46.66 & 0.4 & 0.1707039 & 100\\\\\n\\end{tabular}\n",
            "text/plain": [
              "  mean_carat sum_carat median_carat sd_carat  n  \n",
              "1 0.4666     46.66     0.4          0.1707039 100"
            ]
          },
          "metadata": {}
        }
      ]
    },
    {
      "cell_type": "markdown",
      "source": [
        "df4 function"
      ],
      "metadata": {
        "id": "UkENGef4wJTA"
      }
    },
    {
      "cell_type": "code",
      "source": [
        "df4 <- diamond_df %>%\n",
        "  mutate(cr = ifelse(carat >= 1, \"Good\", \"Normal\")) %>%\n",
        "  select (carat,cr,cut,price,color) %>%\n",
        "  sample_n(100) %>%\n",
        "  filter(color == \"I\",price >= 1000) %>%\n",
        "  arrange(desc(price))\n"
      ],
      "metadata": {
        "id": "sRm92bnUwLKO"
      },
      "execution_count": null,
      "outputs": []
    },
    {
      "cell_type": "code",
      "source": [
        "df4\n"
      ],
      "metadata": {
        "colab": {
          "base_uri": "https://localhost:8080/",
          "height": 223
        },
        "id": "d6NIcC1lyEOK",
        "outputId": "50ce1d8b-ee14-4b3a-b7c4-a5e2fe35a2ab"
      },
      "execution_count": null,
      "outputs": [
        {
          "output_type": "display_data",
          "data": {
            "text/html": [
              "<table class=\"dataframe\">\n",
              "<caption>A tibble: 4 × 5</caption>\n",
              "<thead>\n",
              "\t<tr><th scope=col>carat</th><th scope=col>cr</th><th scope=col>cut</th><th scope=col>price</th><th scope=col>color</th></tr>\n",
              "\t<tr><th scope=col>&lt;dbl&gt;</th><th scope=col>&lt;chr&gt;</th><th scope=col>&lt;ord&gt;</th><th scope=col>&lt;int&gt;</th><th scope=col>&lt;ord&gt;</th></tr>\n",
              "</thead>\n",
              "<tbody>\n",
              "\t<tr><td>1.54</td><td>Good</td><td>Very Good</td><td>10518</td><td>I</td></tr>\n",
              "\t<tr><td>2.00</td><td>Good</td><td>Fair     </td><td> 8736</td><td>I</td></tr>\n",
              "\t<tr><td>1.06</td><td>Good</td><td>Ideal    </td><td> 4092</td><td>I</td></tr>\n",
              "\t<tr><td>1.06</td><td>Good</td><td>Good     </td><td> 3842</td><td>I</td></tr>\n",
              "</tbody>\n",
              "</table>\n"
            ],
            "text/markdown": "\nA tibble: 4 × 5\n\n| carat &lt;dbl&gt; | cr &lt;chr&gt; | cut &lt;ord&gt; | price &lt;int&gt; | color &lt;ord&gt; |\n|---|---|---|---|---|\n| 1.54 | Good | Very Good | 10518 | I |\n| 2.00 | Good | Fair      |  8736 | I |\n| 1.06 | Good | Ideal     |  4092 | I |\n| 1.06 | Good | Good      |  3842 | I |\n\n",
            "text/latex": "A tibble: 4 × 5\n\\begin{tabular}{lllll}\n carat & cr & cut & price & color\\\\\n <dbl> & <chr> & <ord> & <int> & <ord>\\\\\n\\hline\n\t 1.54 & Good & Very Good & 10518 & I\\\\\n\t 2.00 & Good & Fair      &  8736 & I\\\\\n\t 1.06 & Good & Ideal     &  4092 & I\\\\\n\t 1.06 & Good & Good      &  3842 & I\\\\\n\\end{tabular}\n",
            "text/plain": [
              "  carat cr   cut       price color\n",
              "1 1.54  Good Very Good 10518 I    \n",
              "2 2.00  Good Fair       8736 I    \n",
              "3 1.06  Good Ideal      4092 I    \n",
              "4 1.06  Good Good       3842 I    "
            ]
          },
          "metadata": {}
        }
      ]
    },
    {
      "cell_type": "markdown",
      "source": [
        "df5 function"
      ],
      "metadata": {
        "id": "OXiU7vP-yImY"
      }
    },
    {
      "cell_type": "code",
      "source": [
        "df5 <- diamond_df %>%\n",
        "  sample_n(10) %>%\n",
        "  select (clarity,depth,table,price) %>%\n",
        "  filter (table >= 55, depth >= 61 ) %>%\n",
        "  arrange(desc(price))\n",
        "\n"
      ],
      "metadata": {
        "id": "nFBtMtSFyLRM"
      },
      "execution_count": null,
      "outputs": []
    },
    {
      "cell_type": "code",
      "source": [
        "df5"
      ],
      "metadata": {
        "colab": {
          "base_uri": "https://localhost:8080/",
          "height": 380
        },
        "id": "DrVduiqky28x",
        "outputId": "f7a57f5d-c47b-4df3-f9cc-0d0834f6a1b6"
      },
      "execution_count": null,
      "outputs": [
        {
          "output_type": "display_data",
          "data": {
            "text/html": [
              "<table class=\"dataframe\">\n",
              "<caption>A tibble: 9 × 4</caption>\n",
              "<thead>\n",
              "\t<tr><th scope=col>clarity</th><th scope=col>depth</th><th scope=col>table</th><th scope=col>price</th></tr>\n",
              "\t<tr><th scope=col>&lt;ord&gt;</th><th scope=col>&lt;dbl&gt;</th><th scope=col>&lt;dbl&gt;</th><th scope=col>&lt;int&gt;</th></tr>\n",
              "</thead>\n",
              "<tbody>\n",
              "\t<tr><td>SI2 </td><td>62.7</td><td>58</td><td>13099</td></tr>\n",
              "\t<tr><td>VVS1</td><td>62.3</td><td>60</td><td> 6132</td></tr>\n",
              "\t<tr><td>VS2 </td><td>61.8</td><td>56</td><td> 5625</td></tr>\n",
              "\t<tr><td>VS2 </td><td>62.1</td><td>55</td><td> 2952</td></tr>\n",
              "\t<tr><td>SI1 </td><td>62.6</td><td>56</td><td> 2907</td></tr>\n",
              "\t<tr><td>VVS2</td><td>61.2</td><td>56</td><td> 1838</td></tr>\n",
              "\t<tr><td>SI1 </td><td>61.8</td><td>56</td><td>  945</td></tr>\n",
              "\t<tr><td>SI1 </td><td>61.0</td><td>56</td><td>  552</td></tr>\n",
              "\t<tr><td>VVS1</td><td>61.0</td><td>61</td><td>  544</td></tr>\n",
              "</tbody>\n",
              "</table>\n"
            ],
            "text/markdown": "\nA tibble: 9 × 4\n\n| clarity &lt;ord&gt; | depth &lt;dbl&gt; | table &lt;dbl&gt; | price &lt;int&gt; |\n|---|---|---|---|\n| SI2  | 62.7 | 58 | 13099 |\n| VVS1 | 62.3 | 60 |  6132 |\n| VS2  | 61.8 | 56 |  5625 |\n| VS2  | 62.1 | 55 |  2952 |\n| SI1  | 62.6 | 56 |  2907 |\n| VVS2 | 61.2 | 56 |  1838 |\n| SI1  | 61.8 | 56 |   945 |\n| SI1  | 61.0 | 56 |   552 |\n| VVS1 | 61.0 | 61 |   544 |\n\n",
            "text/latex": "A tibble: 9 × 4\n\\begin{tabular}{llll}\n clarity & depth & table & price\\\\\n <ord> & <dbl> & <dbl> & <int>\\\\\n\\hline\n\t SI2  & 62.7 & 58 & 13099\\\\\n\t VVS1 & 62.3 & 60 &  6132\\\\\n\t VS2  & 61.8 & 56 &  5625\\\\\n\t VS2  & 62.1 & 55 &  2952\\\\\n\t SI1  & 62.6 & 56 &  2907\\\\\n\t VVS2 & 61.2 & 56 &  1838\\\\\n\t SI1  & 61.8 & 56 &   945\\\\\n\t SI1  & 61.0 & 56 &   552\\\\\n\t VVS1 & 61.0 & 61 &   544\\\\\n\\end{tabular}\n",
            "text/plain": [
              "  clarity depth table price\n",
              "1 SI2     62.7  58    13099\n",
              "2 VVS1    62.3  60     6132\n",
              "3 VS2     61.8  56     5625\n",
              "4 VS2     62.1  55     2952\n",
              "5 SI1     62.6  56     2907\n",
              "6 VVS2    61.2  56     1838\n",
              "7 SI1     61.8  56      945\n",
              "8 SI1     61.0  56      552\n",
              "9 VVS1    61.0  61      544"
            ]
          },
          "metadata": {}
        }
      ]
    }
  ]
}
