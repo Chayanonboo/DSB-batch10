{
  "cells": [
    {
      "cell_type": "markdown",
      "metadata": {
        "id": "view-in-github",
        "colab_type": "text"
      },
      "source": [
        "<a href=\"https://colab.research.google.com/github/Chayanonboo/DSB-batch10/blob/main/Python_Pao_Ying_Chub_.ipynb\" target=\"_parent\"><img src=\"https://colab.research.google.com/assets/colab-badge.svg\" alt=\"Open In Colab\"/></a>"
      ]
    },
    {
      "cell_type": "markdown",
      "source": [
        "## Project  : SQL Restaurant Database\n",
        "## Author   : Chayanon Boonthanom\n",
        "## Language : Python\n",
        "## Date     : 09 May 2025"
      ],
      "metadata": {
        "id": "bp12Ld5MFf3G"
      }
    },
    {
      "cell_type": "code",
      "execution_count": 3,
      "metadata": {
        "id": "kyb-mNHZgxnT"
      },
      "outputs": [],
      "source": [
        "## Pao ying chub\n",
        "import random\n",
        "def pao_ying_chub():\n",
        "    user_score = 0\n",
        "    bot_score = 0\n",
        "    hands = [\"rock\", \"paper\", \"scissor\"]\n",
        "\n",
        "    while True:\n",
        "        print(f\"Who has 5 point first is win, please choose one of these hands: {hands}\")\n",
        "        user = input().lower()\n",
        "        if user not in hands:\n",
        "            print(f\"Invalid hands, please choose one of these hands: {hands}\")\n",
        "            continue\n",
        "        print(f\"You choose: {user}\")\n",
        "        bot = random.choice(hands)\n",
        "        print(f\"Bot choose: {bot}\")\n",
        "        if user == bot:\n",
        "            print(\"Tie\")\n",
        "            continue\n",
        "        elif ((user == \"rock\" and bot == \"scissor\")\n",
        "            or (user == \"paper\" and bot == \"rock\")\n",
        "            or (user == \"scissor\" and bot == \"paper\")):\n",
        "            user_score += 1\n",
        "            print(f\"Now : user have {user_score} point!\")\n",
        "            if user_score == 5:\n",
        "                print(\"You win Pao Ying Chub game!\")\n",
        "                break\n",
        "            else:\n",
        "                continue\n",
        "        else:\n",
        "            bot_score += 1\n",
        "            print(f\"Now : bot have {bot_score} point!\")\n",
        "            if bot_score == 5:\n",
        "                print(\"Bot win Pao Ying Chub game!\")\n",
        "                break\n",
        "            else:\n",
        "                continue"
      ]
    },
    {
      "cell_type": "markdown",
      "source": [
        "## Pao_Ying_Chub() Function\n",
        "\n",
        "สามารถเล่น rock, scissor, paper จนจบเกมได้\n",
        "\n",
        "Result"
      ],
      "metadata": {
        "id": "rw8-_A92FW8a"
      }
    },
    {
      "cell_type": "code",
      "execution_count": 4,
      "metadata": {
        "id": "ge4T9lyoRKQU",
        "colab": {
          "base_uri": "https://localhost:8080/"
        },
        "outputId": "38948f9f-816a-421f-b58a-3ce3a7f4f1d7"
      },
      "outputs": [
        {
          "output_type": "stream",
          "name": "stdout",
          "text": [
            "Who has 5 point first is win, please choose one of these hands: ['rock', 'paper', 'scissor']\n",
            "rock\n",
            "You choose: rock\n",
            "Bot choose: scissor\n",
            "Now : user have 1 point!\n",
            "Who has 5 point first is win, please choose one of these hands: ['rock', 'paper', 'scissor']\n",
            "scissor\n",
            "You choose: scissor\n",
            "Bot choose: scissor\n",
            "Tie\n",
            "Who has 5 point first is win, please choose one of these hands: ['rock', 'paper', 'scissor']\n",
            "paper\n",
            "You choose: paper\n",
            "Bot choose: rock\n",
            "Now : user have 2 point!\n",
            "Who has 5 point first is win, please choose one of these hands: ['rock', 'paper', 'scissor']\n",
            "paper\n",
            "You choose: paper\n",
            "Bot choose: rock\n",
            "Now : user have 3 point!\n",
            "Who has 5 point first is win, please choose one of these hands: ['rock', 'paper', 'scissor']\n",
            "rock\n",
            "You choose: rock\n",
            "Bot choose: paper\n",
            "Now : bot have 1 point!\n",
            "Who has 5 point first is win, please choose one of these hands: ['rock', 'paper', 'scissor']\n",
            "rock\n",
            "You choose: rock\n",
            "Bot choose: rock\n",
            "Tie\n",
            "Who has 5 point first is win, please choose one of these hands: ['rock', 'paper', 'scissor']\n",
            "paper\n",
            "You choose: paper\n",
            "Bot choose: paper\n",
            "Tie\n",
            "Who has 5 point first is win, please choose one of these hands: ['rock', 'paper', 'scissor']\n",
            "not\n",
            "Invalid hands, please choose one of these hands: ['rock', 'paper', 'scissor']\n",
            "Who has 5 point first is win, please choose one of these hands: ['rock', 'paper', 'scissor']\n",
            "scissor\n",
            "You choose: scissor\n",
            "Bot choose: scissor\n",
            "Tie\n",
            "Who has 5 point first is win, please choose one of these hands: ['rock', 'paper', 'scissor']\n",
            "scissor\n",
            "You choose: scissor\n",
            "Bot choose: scissor\n",
            "Tie\n",
            "Who has 5 point first is win, please choose one of these hands: ['rock', 'paper', 'scissor']\n",
            "paper\n",
            "You choose: paper\n",
            "Bot choose: scissor\n",
            "Now : bot have 2 point!\n",
            "Who has 5 point first is win, please choose one of these hands: ['rock', 'paper', 'scissor']\n",
            "paper\n",
            "You choose: paper\n",
            "Bot choose: scissor\n",
            "Now : bot have 3 point!\n",
            "Who has 5 point first is win, please choose one of these hands: ['rock', 'paper', 'scissor']\n",
            "paper\n",
            "You choose: paper\n",
            "Bot choose: paper\n",
            "Tie\n",
            "Who has 5 point first is win, please choose one of these hands: ['rock', 'paper', 'scissor']\n",
            "paper\n",
            "You choose: paper\n",
            "Bot choose: rock\n",
            "Now : user have 4 point!\n",
            "Who has 5 point first is win, please choose one of these hands: ['rock', 'paper', 'scissor']\n",
            "paper\n",
            "You choose: paper\n",
            "Bot choose: paper\n",
            "Tie\n",
            "Who has 5 point first is win, please choose one of these hands: ['rock', 'paper', 'scissor']\n",
            "scissor\n",
            "You choose: scissor\n",
            "Bot choose: scissor\n",
            "Tie\n",
            "Who has 5 point first is win, please choose one of these hands: ['rock', 'paper', 'scissor']\n",
            "scissor\n",
            "You choose: scissor\n",
            "Bot choose: scissor\n",
            "Tie\n",
            "Who has 5 point first is win, please choose one of these hands: ['rock', 'paper', 'scissor']\n",
            "scissor\n",
            "You choose: scissor\n",
            "Bot choose: paper\n",
            "Now : user have 5 point!\n",
            "You win Pao Ying Chub game!\n"
          ]
        }
      ],
      "source": [
        "pao_ying_chub()"
      ]
    }
  ],
  "metadata": {
    "colab": {
      "provenance": [],
      "authorship_tag": "ABX9TyNm7suQVsDWVbHsL7ETiQcm",
      "include_colab_link": true
    },
    "kernelspec": {
      "display_name": "Python 3",
      "name": "python3"
    },
    "language_info": {
      "name": "python"
    }
  },
  "nbformat": 4,
  "nbformat_minor": 0
}