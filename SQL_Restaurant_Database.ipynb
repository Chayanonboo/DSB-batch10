{
  "nbformat": 4,
  "nbformat_minor": 0,
  "metadata": {
    "colab": {
      "provenance": [],
      "authorship_tag": "ABX9TyME3gbTwoyfDAHKenkat0sv",
      "include_colab_link": true
    },
    "kernelspec": {
      "name": "python3",
      "display_name": "Python 3"
    },
    "language_info": {
      "name": "python"
    }
  },
  "cells": [
    {
      "cell_type": "markdown",
      "metadata": {
        "id": "view-in-github",
        "colab_type": "text"
      },
      "source": [
        "<a href=\"https://colab.research.google.com/github/Chayanonboo/dsb-batch10/blob/main/SQL_Restaurant_Database.ipynb\" target=\"_parent\"><img src=\"https://colab.research.google.com/assets/colab-badge.svg\" alt=\"Open In Colab\"/></a>"
      ]
    },
    {
      "cell_type": "markdown",
      "source": [
        "**SQL Restaurant Database**\n",
        "\n",
        "**Author**: Chayanon Boonthanom\n",
        "\n",
        "**Language**: SQL\n",
        "\n",
        "**Date**: 09 May 2025"
      ],
      "metadata": {
        "id": "0OZE2ZBhcQNi"
      }
    },
    {
      "cell_type": "markdown",
      "source": [
        "เริ่มขั้นตอนดังนี้\n",
        "\n",
        "ต้องมีการ Import pandas เพื่อแสดงผลลัพธ์เป็นตาราง\n",
        "\n",
        "ส่วนของ SQL Script ทั้งหมด\n",
        "\n",
        "จะแบ่งเป็นส่วน DDL/DML และส่วน Queries เพื่อความสะดวกในการจัดการ"
      ],
      "metadata": {
        "id": "RYAD3qSRbOJg"
      }
    },
    {
      "cell_type": "code",
      "execution_count": 2,
      "metadata": {
        "id": "_2uc2HKKatxB"
      },
      "outputs": [],
      "source": [
        "import sqlite3\n",
        "import pandas as pd\n",
        "\n",
        "sql_setup_script = \"\"\"\n",
        "CREATE TABLE staff(\n",
        "   staff_id int,\n",
        "   staff_name Text,\n",
        "   staff_position Text\n",
        ");\n",
        "\n",
        "INSERT INTO staff values\n",
        "   (1, 'Non','Manager'),\n",
        "   (2, 'Nan','Officer'),\n",
        "   (3, 'Mind','Officer');\n",
        "\n",
        "CREATE TABLE menu(\n",
        "     menu_id INT,\n",
        "     name_food TEXT,\n",
        "     price REAL,\n",
        "     category TEXT\n",
        ");\n",
        "\n",
        "INSERT INTO menu values\n",
        " (1,'Banana',10.00,'Fruit'),\n",
        " (2,'Rice with pork',50.00,'Thai Food'),\n",
        " (3,'Pizza',200.00,'Italian Food'),\n",
        " (4,'Sushi',120.00,'Japanese Food');\n",
        "\n",
        "CREATE TABLE transaction_cooking(\n",
        "     transaction_id INT,\n",
        "     order_date DATETIME,\n",
        "     customer_id INT,\n",
        "     staff_id INT,\n",
        "     total_amount REAL,\n",
        "     category TEXT -- เพิ่ม category ใน transaction_cooking ให้สอดคล้องกับ JOIN\n",
        ");\n",
        "\n",
        "INSERT INTO transaction_cooking values\n",
        "   (30,'2024-06-01',1,1,320.00,'Fruit'),          -- Banana (สมมติว่าลูกค้าซื้อ Banana หลายชิ้น)\n",
        "   (31,'2024-06-02',2,2,600.00,'Thai Food'),       -- Rice with pork\n",
        "   (32,'2024-06-03',3,3,610.00,'Italian Food'),    -- Pizza\n",
        "   (33,'2024-06-03',4,1,240.00,'Italian Food'),    -- Pizza (อีกออเดอร์)\n",
        "   (34,'2024-06-04',5,2,360.00,'Japanese Food'),   -- Sushi\n",
        "   (35,'2024-06-04',6,3,380.00,'Japanese Food'),   -- Sushi\n",
        "   (36,'2024-06-05',7,1,800.00,'Japanese Food'),   -- Sushi\n",
        "   (37,'2024-06-05',8,2,1000.00,'Japanese Food'); -- Sushi\n",
        "\n",
        "CREATE TABLE customers (\n",
        "    customer_id int PRIMARY KEY,\n",
        "    customer_name TEXT,\n",
        "    gender TEXT\n",
        ");\n",
        "\n",
        "INSERT INTO customers values\n",
        "     (1,'James','M'),\n",
        "     (2,'Mary','F'),\n",
        "     (3,'Onn','F'),\n",
        "     (4,'Kaning','F'),\n",
        "     (5,'Boss','M'),\n",
        "     (6,'Son','F'),\n",
        "     (7,'palm','F'),\n",
        "     (8,'fern','M');\n",
        "\"\"\"\n"
      ]
    },
    {
      "cell_type": "markdown",
      "source": [
        "สร้างการเชื่อมต่อ (Connection) และ Cursor\n",
        "\n",
        "สร้างฐานข้อมูลในหน่วยความจำ\n"
      ],
      "metadata": {
        "id": "ZSWUwwSWe-bd"
      }
    },
    {
      "cell_type": "code",
      "source": [
        "conn = sqlite3.connect(':memory:')\n",
        "cursor = conn.cursor()\n"
      ],
      "metadata": {
        "id": "BpKd815KeYcS"
      },
      "execution_count": 3,
      "outputs": []
    },
    {
      "cell_type": "markdown",
      "source": [
        " ลอง Execute SQL Setup Script (CREATE TABLEs และ INSERT INTO data) ว่าสามารถใช้ได้หรือเปล่า\n",
        "\n",
        " conn.commit() = ยืนยันการเปลี่ยนแปลงข้อมูล"
      ],
      "metadata": {
        "id": "lPgnncJ0oVD0"
      }
    },
    {
      "cell_type": "code",
      "source": [
        "try:\n",
        "    cursor.executescript(sql_setup_script)\n",
        "    conn.commit() # ยืนยันการเปลี่ยนแปลงข้อมูล\n",
        "    print(\"Tables created and data inserted successfully.\")\n",
        "except sqlite3.Error as e:\n",
        "    print(f\"An error occurred: {e}\")\n",
        "\n"
      ],
      "metadata": {
        "colab": {
          "base_uri": "https://localhost:8080/"
        },
        "id": "aaqTZwIfeb_x",
        "outputId": "f6f0c035-63e8-4e40-d08e-a526b7e4c5ca"
      },
      "execution_count": 4,
      "outputs": [
        {
          "output_type": "stream",
          "name": "stdout",
          "text": [
            "Tables created and data inserted successfully.\n"
          ]
        }
      ]
    },
    {
      "cell_type": "markdown",
      "source": [
        "รัน SELECT Queries ทีละ Query และแสดงผลด้วย Pandas\n",
        "\n",
        "**Query 1: Where clause staff table**"
      ],
      "metadata": {
        "id": "xepkrApHooNl"
      }
    },
    {
      "cell_type": "code",
      "source": [
        "print(\"\\n--- Query 1: Where clause staff table ---\")\n",
        "query1 = \"\"\"\n",
        "SELECT\n",
        "    staff_id,\n",
        "    staff_name\n",
        "FROM staff\n",
        "WHERE staff_name = 'Non';\n",
        "\"\"\"\n",
        "df1 = pd.read_sql_query(query1, conn)\n",
        "print(df1)\n",
        "\n"
      ],
      "metadata": {
        "colab": {
          "base_uri": "https://localhost:8080/"
        },
        "id": "f9IbQ0IvefE7",
        "outputId": "99949b60-afe5-42d5-e0c9-d52ff758c73f"
      },
      "execution_count": 5,
      "outputs": [
        {
          "output_type": "stream",
          "name": "stdout",
          "text": [
            "\n",
            "--- Query 1: Where clause staff table ---\n",
            "   staff_id staff_name\n",
            "0         1        Non\n"
          ]
        }
      ]
    },
    {
      "cell_type": "markdown",
      "source": [
        "**Query 2: Where clause menu table**"
      ],
      "metadata": {
        "id": "78SRMJLqo6DG"
      }
    },
    {
      "cell_type": "code",
      "source": [
        "print(\"\\n--- Query 2: Where clause menu table (แสดงทั้งหมด) ---\")\n",
        "# หมายเหตุ: ใน SQL เดิมของคุณไม่ได้ใส่ WHERE clause สำหรับ menu แต่เป็นการ select *\n",
        "# ถ้าต้องการ WHERE clause ให้เพิ่มเข้าไป\n",
        "query2 = \"\"\"\n",
        "SELECT\n",
        "    name_food,\n",
        "    price\n",
        "FROM MENU;\n",
        "\"\"\"\n",
        "df2 = pd.read_sql_query(query2, conn)\n",
        "print(df2)\n",
        "\n"
      ],
      "metadata": {
        "colab": {
          "base_uri": "https://localhost:8080/"
        },
        "id": "CM0SVsARen7U",
        "outputId": "3232e049-e95a-40c8-9ecb-7284a784c15b"
      },
      "execution_count": 6,
      "outputs": [
        {
          "output_type": "stream",
          "name": "stdout",
          "text": [
            "\n",
            "--- Query 2: Where clause menu table (แสดงทั้งหมด) ---\n",
            "        name_food  price\n",
            "0          Banana   10.0\n",
            "1  Rice with pork   50.0\n",
            "2           Pizza  200.0\n",
            "3           Sushi  120.0\n"
          ]
        }
      ]
    },
    {
      "cell_type": "markdown",
      "source": [
        "**Query 3: Aggregate function for transaction_cooking**"
      ],
      "metadata": {
        "id": "K18gAiw-o9BF"
      }
    },
    {
      "cell_type": "code",
      "source": [
        "print(\"\\n--- Query 3: Aggregate function for transaction_cooking ---\")\n",
        "query3 = \"\"\"\n",
        "SELECT\n",
        "    order_date,\n",
        "    Count(*) AS num_transactions,\n",
        "    AVG(total_amount) AS avg_amount,\n",
        "    SUM(total_amount) AS sum_amount,\n",
        "    MAX(total_amount) AS max_amount,\n",
        "    MIN(total_amount) AS min_amount\n",
        "FROM transaction_cooking\n",
        "GROUP BY order_date;\n",
        "\"\"\"\n",
        "df3 = pd.read_sql_query(query3, conn)\n",
        "print(df3)\n",
        "\n"
      ],
      "metadata": {
        "colab": {
          "base_uri": "https://localhost:8080/"
        },
        "id": "X5YAlhPpe1Lj",
        "outputId": "ad94c446-be27-452b-c7fa-74246107770a"
      },
      "execution_count": 7,
      "outputs": [
        {
          "output_type": "stream",
          "name": "stdout",
          "text": [
            "\n",
            "--- Query 3: Aggregate function for transaction_cooking ---\n",
            "   order_date  num_transactions  avg_amount  sum_amount  max_amount  \\\n",
            "0  2024-06-01                 1       320.0       320.0       320.0   \n",
            "1  2024-06-02                 1       600.0       600.0       600.0   \n",
            "2  2024-06-03                 2       425.0       850.0       610.0   \n",
            "3  2024-06-04                 2       370.0       740.0       380.0   \n",
            "4  2024-06-05                 2       900.0      1800.0      1000.0   \n",
            "\n",
            "   min_amount  \n",
            "0       320.0  \n",
            "1       600.0  \n",
            "2       240.0  \n",
            "3       360.0  \n",
            "4       800.0  \n"
          ]
        }
      ]
    },
    {
      "cell_type": "markdown",
      "source": [
        "**Query 4: Subquery with Staff table (staff_id = 1)**\n",
        "\n",
        "ใน SQL เดิม WHERE staff_id = '1' ซึ่ง '1' เป็น TEXT\n",
        "\n",
        "ถ้า staff_id เป็น INT ควรจะเป็น WHERE staff_id = 1"
      ],
      "metadata": {
        "id": "GWZ0naIro_25"
      }
    },
    {
      "cell_type": "code",
      "source": [
        "print(\"\\n--- Query 4: Subquery with Staff table (staff_id = 1) ---\")\n",
        "query4 = \"\"\"\n",
        "SELECT\n",
        "    staff_name,\n",
        "    staff_position\n",
        "FROM (\n",
        "    SELECT *\n",
        "    FROM staff\n",
        "    WHERE staff_id = 1  -- แก้ไขเป็น 1 (INT)\n",
        ");\n",
        "\"\"\"\n",
        "df4 = pd.read_sql_query(query4, conn)\n",
        "print(df4)\n",
        "\n",
        "\n"
      ],
      "metadata": {
        "colab": {
          "base_uri": "https://localhost:8080/"
        },
        "id": "PUAx2kxoe3vT",
        "outputId": "6afc576d-235f-4691-a50e-600c5e75a683"
      },
      "execution_count": 8,
      "outputs": [
        {
          "output_type": "stream",
          "name": "stdout",
          "text": [
            "\n",
            "--- Query 4: Subquery with Staff table (staff_id = 1) ---\n",
            "  staff_name staff_position\n",
            "0        Non        Manager\n"
          ]
        }
      ]
    },
    {
      "cell_type": "markdown",
      "source": [
        "**Query 5: WITH clause (CTE) joining multiple tables**"
      ],
      "metadata": {
        "id": "2d6vJRLopKUJ"
      }
    },
    {
      "cell_type": "code",
      "source": [
        "print(\"\\n--- Query 5: WITH clause (CTE) joining multiple tables ---\")\n",
        "query5 = \"\"\"\n",
        "WITH customer_detail AS (\n",
        "    SELECT\n",
        "        sta.staff_name AS staff_name,\n",
        "        sta.staff_position AS staff_position,\n",
        "        cus.customer_name AS customer_name,\n",
        "        cus.gender AS gender,\n",
        "        men.name_food AS name_food,\n",
        "        men.price AS price_per_unit, -- เปลี่ยนชื่อ price เพื่อไม่ให้สับสนกับ total_amount\n",
        "        tra.total_amount AS amount_receive,\n",
        "        tra.order_date,\n",
        "        tra.transaction_id\n",
        "    FROM staff AS sta\n",
        "    JOIN transaction_cooking AS tra ON sta.staff_id = tra.staff_id\n",
        "    JOIN customers AS cus ON tra.customer_id = cus.customer_id\n",
        "    JOIN menu AS men ON tra.category = men.category -- JOIN menu ด้วย category จาก transaction_cooking\n",
        ")\n",
        "SELECT\n",
        "    transaction_id,\n",
        "    order_date,\n",
        "    staff_name,\n",
        "    staff_position,\n",
        "    customer_name,\n",
        "    gender,\n",
        "    name_food,\n",
        "    price_per_unit,\n",
        "    amount_receive\n",
        "FROM customer_detail\n",
        "ORDER BY order_date, transaction_id;\n",
        "\"\"\"\n",
        "df5 = pd.read_sql_query(query5, conn)\n",
        "print(df5)"
      ],
      "metadata": {
        "colab": {
          "base_uri": "https://localhost:8080/"
        },
        "id": "ppLNI3ISe6pL",
        "outputId": "e536a3e3-06f2-4922-cf75-83bef342e6ee"
      },
      "execution_count": 9,
      "outputs": [
        {
          "output_type": "stream",
          "name": "stdout",
          "text": [
            "\n",
            "--- Query 5: WITH clause (CTE) joining multiple tables ---\n",
            "   transaction_id  order_date staff_name staff_position customer_name gender  \\\n",
            "0              30  2024-06-01        Non        Manager         James      M   \n",
            "1              31  2024-06-02        Nan        Officer          Mary      F   \n",
            "2              32  2024-06-03       Mind        Officer           Onn      F   \n",
            "3              33  2024-06-03        Non        Manager        Kaning      F   \n",
            "4              34  2024-06-04        Nan        Officer          Boss      M   \n",
            "5              35  2024-06-04       Mind        Officer           Son      F   \n",
            "6              36  2024-06-05        Non        Manager          palm      F   \n",
            "7              37  2024-06-05        Nan        Officer          fern      M   \n",
            "\n",
            "        name_food  price_per_unit  amount_receive  \n",
            "0          Banana            10.0           320.0  \n",
            "1  Rice with pork            50.0           600.0  \n",
            "2           Pizza           200.0           610.0  \n",
            "3           Pizza           200.0           240.0  \n",
            "4           Sushi           120.0           360.0  \n",
            "5           Sushi           120.0           380.0  \n",
            "6           Sushi           120.0           800.0  \n",
            "7           Sushi           120.0          1000.0  \n"
          ]
        }
      ]
    },
    {
      "cell_type": "markdown",
      "source": [
        "ปิดการเชื่อมต่อ"
      ],
      "metadata": {
        "id": "x7gZT76jpPu4"
      }
    },
    {
      "cell_type": "code",
      "source": [
        "conn.close()\n",
        "print(\"\\nDatabase connection closed.\")"
      ],
      "metadata": {
        "colab": {
          "base_uri": "https://localhost:8080/"
        },
        "id": "_nHssaaOe8e9",
        "outputId": "de4f5408-4a00-4403-b099-335979eb2094"
      },
      "execution_count": 10,
      "outputs": [
        {
          "output_type": "stream",
          "name": "stdout",
          "text": [
            "\n",
            "Database connection closed.\n"
          ]
        }
      ]
    }
  ]
}